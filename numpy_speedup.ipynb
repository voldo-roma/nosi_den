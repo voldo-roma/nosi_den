{
  "nbformat": 4,
  "nbformat_minor": 0,
  "metadata": {
    "colab": {
      "provenance": [],
      "include_colab_link": true
    },
    "kernelspec": {
      "name": "python3",
      "display_name": "Python 3"
    },
    "language_info": {
      "name": "python"
    }
  },
  "cells": [
    {
      "cell_type": "markdown",
      "metadata": {
        "id": "view-in-github",
        "colab_type": "text"
      },
      "source": [
        "<a href=\"https://colab.research.google.com/github/voldo-roma/nosi_den/blob/main/numpy_speedup.ipynb\" target=\"_parent\"><img src=\"https://colab.research.google.com/assets/colab-badge.svg\" alt=\"Open In Colab\"/></a>"
      ]
    },
    {
      "cell_type": "markdown",
      "source": [
        "PIL code to paste an image onto another:"
      ],
      "metadata": {
        "id": "z5O94EeKsHJw"
      }
    },
    {
      "cell_type": "code",
      "source": [
        "def blend_mask_onto_image_positioned(original_img, rle_mask, highlight_color, scale_factor, x, y, opacity=0.3):\n",
        "  highlight_color = color_name_to_rgb(highlight_color)\n",
        "  # 1. Decode the RLE mask\n",
        "  mask_array = coco_mask.decode(rle_mask)\n",
        "  mask_image = Image.fromarray((mask_array * 255).astype(np.uint8))\n",
        "\n",
        "  # 2. Scale the mask\n",
        "  new_size = (int(mask_image.width * scale_factor), int(mask_image.height * scale_factor))\n",
        "  #print(f\"old size: {mask_image.width} new size: {mask_image.width * scale_factor}\")\n",
        "  scaled_mask = mask_image.resize(new_size, Image.LANCZOS)\n",
        "\n",
        "  # Position the scaled mask on a blank canvas of the same size as the original image at (x, y)\n",
        "  full_size_mask = Image.new(\"L\", original_img.size)\n",
        "  full_size_mask.paste(scaled_mask, (x, y))\n",
        "\n",
        "\n",
        "  highlight_img = Image.new(\"RGBA\", original_img.size, highlight_color + (0,))  # Start with 0 opacity\n",
        "  overlay = Image.new(\"RGBA\", original_img.size, highlight_color + (int(255 * opacity),))  # Desired opacity\n",
        "  highlight_img = Image.composite(overlay, highlight_img, full_size_mask)\n",
        "\n",
        "  # 4. Blend the images\n",
        "  blended_img = Image.alpha_composite(original_img.convert('RGBA'), highlight_img).convert('RGB')\n",
        "\n",
        "\n",
        "  return blended_img"
      ],
      "metadata": {
        "id": "qK6H9d2VsLrm"
      },
      "execution_count": 1,
      "outputs": []
    },
    {
      "cell_type": "markdown",
      "source": [
        "Numpy code to do the same:"
      ],
      "metadata": {
        "id": "9q7OlQpnsdWe"
      }
    },
    {
      "cell_type": "code",
      "source": [
        "def blend_mask_onto_image_positioned(original_array, rle_mask, highlight_color, scale_factor, x, y, opacity=0.3):\n",
        "\n",
        "      # 1. Decode the RLE mask\n",
        "      mask_array = coco_mask.decode(rle_mask)\n",
        "\n",
        "      new_shape = (int(mask_array.shape[0] * scale_factor), int(mask_array.shape[1] * scale_factor))\n",
        "      # 2. scale the mask\n",
        "      scaled_mask = resize(mask_array, new_shape, order=1, mode='reflect', cval=0, clip=True, preserve_range=True)\n",
        "\n",
        "      # 3. Position the scaled mask on a blank canvas of the same size as the original image at (x, y)\n",
        "      full_size_mask = np.zeros(original_array.shape[:2], dtype=scaled_mask.dtype)\n",
        "      full_size_mask[y:y+scaled_mask.shape[0], x:x+scaled_mask.shape[1]] = scaled_mask\n",
        "\n",
        "      # Determine the regions where blending is necessary directly from the scaled mask\n",
        "      blend_rows, blend_cols = np.where(scaled_mask)\n",
        "\n",
        "      # Adjust for the positioning on the original image\n",
        "      blend_rows += y\n",
        "      blend_cols += x\n",
        "\n",
        "\n",
        "      # Compute the alpha values for these regions\n",
        "      alpha_values = full_size_mask[blend_rows, blend_cols] * opacity\n",
        "\n",
        "      # Compute the highlight color for these regions\n",
        "      highlight_color_rgb = np.array(color_name_to_rgb(highlight_color))\n",
        "\n",
        "      # Blend the original and highlight colors for these regions\n",
        "      blended_array = original_array.copy()\n",
        "      blended_array[blend_rows, blend_cols] = (original_array[blend_rows, blend_cols] * (1 - alpha_values[:, np.newaxis]) +\n",
        "                                                highlight_color_rgb * alpha_values[:, np.newaxis]).astype(np.uint8)\n",
        "\n",
        "      return blended_array"
      ],
      "metadata": {
        "id": "jllBlGQ8sgEt"
      },
      "execution_count": null,
      "outputs": []
    }
  ]
}